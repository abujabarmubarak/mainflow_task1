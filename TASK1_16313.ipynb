{
 "cells": [
  {
   "cell_type": "code",
   "execution_count": 8,
   "id": "f6a7fb2e-2a5c-48d3-b680-3d8c8528585e",
   "metadata": {},
   "outputs": [
    {
     "name": "stdout",
     "output_type": "stream",
     "text": [
      "Seaborn is installed successfully!\n"
     ]
    }
   ],
   "source": [
    "import seaborn as sns\n",
    "print(\"Seaborn is installed successfully!\")\n"
   ]
  },
  {
   "cell_type": "code",
   "execution_count": 9,
   "id": "5c8e3699-f52b-419c-a1ec-6eeee3032b3e",
   "metadata": {},
   "outputs": [],
   "source": [
    "# Import required libraries\n",
    "import pandas as pd\n",
    "import numpy as np\n",
    "import matplotlib.pyplot as plt\n",
    "import seaborn as sns"
   ]
  },
  {
   "cell_type": "code",
   "execution_count": 34,
   "id": "aad76d05-ec3e-4107-b628-5475e46cf103",
   "metadata": {},
   "outputs": [],
   "source": [
    "df = pd.read_csv(\"student-mat.csv\", delimiter=\";\")\n"
   ]
  },
  {
   "cell_type": "code",
   "execution_count": 35,
   "id": "911dbaca-c7b0-4920-8210-24f9df6e8cc6",
   "metadata": {},
   "outputs": [
    {
     "data": {
      "text/html": [
       "<div>\n",
       "<style scoped>\n",
       "    .dataframe tbody tr th:only-of-type {\n",
       "        vertical-align: middle;\n",
       "    }\n",
       "\n",
       "    .dataframe tbody tr th {\n",
       "        vertical-align: top;\n",
       "    }\n",
       "\n",
       "    .dataframe thead th {\n",
       "        text-align: right;\n",
       "    }\n",
       "</style>\n",
       "<table border=\"1\" class=\"dataframe\">\n",
       "  <thead>\n",
       "    <tr style=\"text-align: right;\">\n",
       "      <th></th>\n",
       "      <th>school</th>\n",
       "      <th>sex</th>\n",
       "      <th>age</th>\n",
       "      <th>address</th>\n",
       "      <th>famsize</th>\n",
       "      <th>Pstatus</th>\n",
       "      <th>Medu</th>\n",
       "      <th>Fedu</th>\n",
       "      <th>Mjob</th>\n",
       "      <th>Fjob</th>\n",
       "      <th>...</th>\n",
       "      <th>famrel</th>\n",
       "      <th>freetime</th>\n",
       "      <th>goout</th>\n",
       "      <th>Dalc</th>\n",
       "      <th>Walc</th>\n",
       "      <th>health</th>\n",
       "      <th>absences</th>\n",
       "      <th>G1</th>\n",
       "      <th>G2</th>\n",
       "      <th>G3</th>\n",
       "    </tr>\n",
       "  </thead>\n",
       "  <tbody>\n",
       "    <tr>\n",
       "      <th>0</th>\n",
       "      <td>GP</td>\n",
       "      <td>F</td>\n",
       "      <td>18</td>\n",
       "      <td>U</td>\n",
       "      <td>GT3</td>\n",
       "      <td>A</td>\n",
       "      <td>4</td>\n",
       "      <td>4</td>\n",
       "      <td>at_home</td>\n",
       "      <td>teacher</td>\n",
       "      <td>...</td>\n",
       "      <td>4</td>\n",
       "      <td>3</td>\n",
       "      <td>4</td>\n",
       "      <td>1</td>\n",
       "      <td>1</td>\n",
       "      <td>3</td>\n",
       "      <td>6</td>\n",
       "      <td>5</td>\n",
       "      <td>6</td>\n",
       "      <td>6</td>\n",
       "    </tr>\n",
       "    <tr>\n",
       "      <th>1</th>\n",
       "      <td>GP</td>\n",
       "      <td>F</td>\n",
       "      <td>17</td>\n",
       "      <td>U</td>\n",
       "      <td>GT3</td>\n",
       "      <td>T</td>\n",
       "      <td>1</td>\n",
       "      <td>1</td>\n",
       "      <td>at_home</td>\n",
       "      <td>other</td>\n",
       "      <td>...</td>\n",
       "      <td>5</td>\n",
       "      <td>3</td>\n",
       "      <td>3</td>\n",
       "      <td>1</td>\n",
       "      <td>1</td>\n",
       "      <td>3</td>\n",
       "      <td>4</td>\n",
       "      <td>5</td>\n",
       "      <td>5</td>\n",
       "      <td>6</td>\n",
       "    </tr>\n",
       "    <tr>\n",
       "      <th>2</th>\n",
       "      <td>GP</td>\n",
       "      <td>F</td>\n",
       "      <td>15</td>\n",
       "      <td>U</td>\n",
       "      <td>LE3</td>\n",
       "      <td>T</td>\n",
       "      <td>1</td>\n",
       "      <td>1</td>\n",
       "      <td>at_home</td>\n",
       "      <td>other</td>\n",
       "      <td>...</td>\n",
       "      <td>4</td>\n",
       "      <td>3</td>\n",
       "      <td>2</td>\n",
       "      <td>2</td>\n",
       "      <td>3</td>\n",
       "      <td>3</td>\n",
       "      <td>10</td>\n",
       "      <td>7</td>\n",
       "      <td>8</td>\n",
       "      <td>10</td>\n",
       "    </tr>\n",
       "    <tr>\n",
       "      <th>3</th>\n",
       "      <td>GP</td>\n",
       "      <td>F</td>\n",
       "      <td>15</td>\n",
       "      <td>U</td>\n",
       "      <td>GT3</td>\n",
       "      <td>T</td>\n",
       "      <td>4</td>\n",
       "      <td>2</td>\n",
       "      <td>health</td>\n",
       "      <td>services</td>\n",
       "      <td>...</td>\n",
       "      <td>3</td>\n",
       "      <td>2</td>\n",
       "      <td>2</td>\n",
       "      <td>1</td>\n",
       "      <td>1</td>\n",
       "      <td>5</td>\n",
       "      <td>2</td>\n",
       "      <td>15</td>\n",
       "      <td>14</td>\n",
       "      <td>15</td>\n",
       "    </tr>\n",
       "    <tr>\n",
       "      <th>4</th>\n",
       "      <td>GP</td>\n",
       "      <td>F</td>\n",
       "      <td>16</td>\n",
       "      <td>U</td>\n",
       "      <td>GT3</td>\n",
       "      <td>T</td>\n",
       "      <td>3</td>\n",
       "      <td>3</td>\n",
       "      <td>other</td>\n",
       "      <td>other</td>\n",
       "      <td>...</td>\n",
       "      <td>4</td>\n",
       "      <td>3</td>\n",
       "      <td>2</td>\n",
       "      <td>1</td>\n",
       "      <td>2</td>\n",
       "      <td>5</td>\n",
       "      <td>4</td>\n",
       "      <td>6</td>\n",
       "      <td>10</td>\n",
       "      <td>10</td>\n",
       "    </tr>\n",
       "  </tbody>\n",
       "</table>\n",
       "<p>5 rows × 33 columns</p>\n",
       "</div>"
      ],
      "text/plain": [
       "  school sex  age address famsize Pstatus  Medu  Fedu     Mjob      Fjob  ...  \\\n",
       "0     GP   F   18       U     GT3       A     4     4  at_home   teacher  ...   \n",
       "1     GP   F   17       U     GT3       T     1     1  at_home     other  ...   \n",
       "2     GP   F   15       U     LE3       T     1     1  at_home     other  ...   \n",
       "3     GP   F   15       U     GT3       T     4     2   health  services  ...   \n",
       "4     GP   F   16       U     GT3       T     3     3    other     other  ...   \n",
       "\n",
       "  famrel freetime  goout  Dalc  Walc health absences  G1  G2  G3  \n",
       "0      4        3      4     1     1      3        6   5   6   6  \n",
       "1      5        3      3     1     1      3        4   5   5   6  \n",
       "2      4        3      2     2     3      3       10   7   8  10  \n",
       "3      3        2      2     1     1      5        2  15  14  15  \n",
       "4      4        3      2     1     2      5        4   6  10  10  \n",
       "\n",
       "[5 rows x 33 columns]"
      ]
     },
     "metadata": {},
     "output_type": "display_data"
    }
   ],
   "source": [
    "# Display the first few rows of the dataset\n",
    "display(df.head())"
   ]
  },
  {
   "cell_type": "code",
   "execution_count": 12,
   "id": "6eeb1f81-6b71-4dc4-bef2-c8026f3c0ff6",
   "metadata": {},
   "outputs": [
    {
     "name": "stdout",
     "output_type": "stream",
     "text": [
      "Missing values per column:\n",
      "school;sex;age;address;famsize;Pstatus;Medu;Fedu;Mjob;Fjob;reason;guardian;traveltime;studytime;failures;schoolsup;famsup;paid;activities;nursery;higher;internet;romantic;famrel;freetime;goout;Dalc;Walc;health;absences;G1;G2;G3    0\n",
      "dtype: int64\n"
     ]
    }
   ],
   "source": [
    "# Check for missing values\n",
    "print(\"Missing values per column:\")\n",
    "print(df.isnull().sum())\n"
   ]
  },
  {
   "cell_type": "code",
   "execution_count": 13,
   "id": "131b21f5-326f-4e3b-83bf-fb63a36cda06",
   "metadata": {},
   "outputs": [
    {
     "name": "stdout",
     "output_type": "stream",
     "text": [
      "\n",
      "Data Types:\n",
      "school;sex;age;address;famsize;Pstatus;Medu;Fedu;Mjob;Fjob;reason;guardian;traveltime;studytime;failures;schoolsup;famsup;paid;activities;nursery;higher;internet;romantic;famrel;freetime;goout;Dalc;Walc;health;absences;G1;G2;G3    object\n",
      "dtype: object\n"
     ]
    }
   ],
   "source": [
    "# Display data types of each column\n",
    "print(\"\\nData Types:\")\n",
    "print(df.dtypes)\n"
   ]
  },
  {
   "cell_type": "code",
   "execution_count": 14,
   "id": "3d21f486-8156-49d4-925b-6c949ec8a5fc",
   "metadata": {},
   "outputs": [
    {
     "name": "stdout",
     "output_type": "stream",
     "text": [
      "\n",
      "Dataset Shape: (395, 1)\n"
     ]
    }
   ],
   "source": [
    "# Display dataset size\n",
    "print(\"\\nDataset Shape:\", df.shape)"
   ]
  },
  {
   "cell_type": "code",
   "execution_count": 17,
   "id": "8e26e2a8-13b2-4380-bf90-785b1537eb91",
   "metadata": {},
   "outputs": [],
   "source": [
    "# Handle missing values (if any)\n",
    "df.fillna(df.select_dtypes(include=[np.number]).median(), inplace=True)\n"
   ]
  },
  {
   "cell_type": "code",
   "execution_count": 18,
   "id": "b1dacddc-edfa-4656-b513-e89652dcaa2a",
   "metadata": {},
   "outputs": [],
   "source": [
    "# Remove duplicate entries\n",
    "df.drop_duplicates(inplace=True)"
   ]
  },
  {
   "cell_type": "code",
   "execution_count": 19,
   "id": "5450be3f-bcea-4f5c-993a-766f93094b6e",
   "metadata": {},
   "outputs": [],
   "source": [
    "# --- Analysis ---"
   ]
  },
  {
   "cell_type": "code",
   "execution_count": 26,
   "id": "21f5ef90-e195-4ca5-8908-c255a4ed50a8",
   "metadata": {},
   "outputs": [
    {
     "name": "stdout",
     "output_type": "stream",
     "text": [
      "Index(['school', 'sex', 'age', 'address', 'famsize', 'Pstatus', 'Medu', 'Fedu',\n",
      "       'Mjob', 'Fjob', 'reason', 'guardian', 'traveltime', 'studytime',\n",
      "       'failures', 'schoolsup', 'famsup', 'paid', 'activities', 'nursery',\n",
      "       'higher', 'internet', 'romantic', 'famrel', 'freetime', 'goout', 'Dalc',\n",
      "       'Walc', 'health', 'absences', 'G1', 'G2', 'G3'],\n",
      "      dtype='object')\n",
      "Average Final Grade (G3): 10.42\n"
     ]
    }
   ],
   "source": [
    "# 1. What is the average score in math (G3)?\n",
    "df = pd.read_csv(\"student-mat.csv\", delimiter=\";\")\n",
    "print(df.columns)\n",
    "avg_g3 = df['G3'].mean()\n",
    "print(f\"Average Final Grade (G3): {avg_g3:.2f}\")\n",
    "\n",
    "\n"
   ]
  },
  {
   "cell_type": "code",
   "execution_count": 27,
   "id": "7bcafd38-fffd-441d-aec9-42b7ddd03c7c",
   "metadata": {},
   "outputs": [
    {
     "name": "stdout",
     "output_type": "stream",
     "text": [
      "\n",
      "Counting students who scored above 15 in G3...\n",
      "Number of students who scored above 15 in G3: 40\n"
     ]
    }
   ],
   "source": [
    "# 2. How many students scored above 15 in G3?\n",
    "print(\"\\nCounting students who scored above 15 in G3...\")\n",
    "students_above_15 = (df['G3'] > 15).sum()\n",
    "print(f\"Number of students who scored above 15 in G3: {students_above_15}\")"
   ]
  },
  {
   "cell_type": "code",
   "execution_count": 28,
   "id": "62001360-a4c0-47b2-a043-551a08d655e0",
   "metadata": {},
   "outputs": [
    {
     "name": "stdout",
     "output_type": "stream",
     "text": [
      "\n",
      "Calculating correlation between study time and final grade (G3)...\n",
      "Correlation between study time and G3:\n",
      "           studytime       G3\n",
      "studytime    1.00000  0.09782\n",
      "G3           0.09782  1.00000\n"
     ]
    }
   ],
   "source": [
    "# 3. Correlation between study time and G3\n",
    "print(\"\\nCalculating correlation between study time and final grade (G3)...\")\n",
    "correlation = df[['studytime', 'G3']].corr()\n",
    "print(\"Correlation between study time and G3:\")\n",
    "print(correlation)"
   ]
  },
  {
   "cell_type": "code",
   "execution_count": 29,
   "id": "c8b10ed1-038f-4ee8-b199-4799ece4fdc7",
   "metadata": {},
   "outputs": [
    {
     "name": "stdout",
     "output_type": "stream",
     "text": [
      "\n",
      "Comparing average final grades by gender...\n",
      "Average Final Grade by Gender:\n",
      "sex\n",
      "F     9.966346\n",
      "M    10.914439\n",
      "Name: G3, dtype: float64\n"
     ]
    }
   ],
   "source": [
    "# 4. Which gender has a higher average final grade (G3)?\n",
    "print(\"\\nComparing average final grades by gender...\")\n",
    "avg_g3_by_gender = df.groupby('sex')['G3'].mean()\n",
    "print(\"Average Final Grade by Gender:\")\n",
    "print(avg_g3_by_gender)"
   ]
  },
  {
   "cell_type": "code",
   "execution_count": null,
   "id": "f32752c0-a32a-4e73-8dd8-5313772ab2f2",
   "metadata": {},
   "outputs": [],
   "source": [
    "# --- Data Visualization ---\n"
   ]
  },
  {
   "cell_type": "code",
   "execution_count": 30,
   "id": "1fa7a14b-7973-467b-a311-fbe8bf7c9cfc",
   "metadata": {},
   "outputs": [
    {
     "name": "stdout",
     "output_type": "stream",
     "text": [
      "\n",
      "Generating histogram for final grades (G3)...\n"
     ]
    },
    {
     "data": {
      "image/png": "[encoded data removed]",
      "text/plain": [
       "<Figure size 800x500 with 1 Axes>"
      ]
     },
     "metadata": {},
     "output_type": "display_data"
    }
   ],
   "source": [
    "\n",
    "# 1. Histogram of final grades (G3)\n",
    "print(\"\\nGenerating histogram for final grades (G3)...\")\n",
    "plt.figure(figsize=(8, 5))\n",
    "sns.histplot(df['G3'], bins=10, kde=True, color='blue')\n",
    "plt.xlabel(\"Final Grade (G3)\")\n",
    "plt.ylabel(\"Number of Students\")\n",
    "plt.title(\"Distribution of Final Grades (G3)\")\n",
    "plt.show()\n"
   ]
  },
  {
   "cell_type": "code",
   "execution_count": 31,
   "id": "40c91ec3-67b2-4e9e-bb45-f93ab3bf5448",
   "metadata": {},
   "outputs": [
    {
     "name": "stdout",
     "output_type": "stream",
     "text": [
      "\n",
      "Generating scatter plot for study time vs. final grade (G3)...\n"
     ]
    },
    {
     "data": {
      "image/png": "[encoded data removed]",
      "text/plain": [
       "<Figure size 800x500 with 1 Axes>"
      ]
     },
     "metadata": {},
     "output_type": "display_data"
    }
   ],
   "source": [
    "\n",
    "# 2. Scatter plot between study time and final grade (G3)\n",
    "print(\"\\nGenerating scatter plot for study time vs. final grade (G3)...\")\n",
    "plt.figure(figsize=(8, 5))\n",
    "sns.scatterplot(x=df['studytime'], y=df['G3'], color='red')\n",
    "plt.xlabel(\"Study Time (hours per week)\")\n",
    "plt.ylabel(\"Final Grade (G3)\")\n",
    "plt.title(\"Study Time vs. Final Grade (G3)\")\n",
    "plt.show()"
   ]
  },
  {
   "cell_type": "code",
   "execution_count": 33,
   "id": "71567815-6162-44f0-a34e-7def5bc1e0b8",
   "metadata": {},
   "outputs": [
    {
     "name": "stdout",
     "output_type": "stream",
     "text": [
      "\n",
      "Generating bar chart for average final grade by gender...\n"
     ]
    },
    {
     "data": {
      "image/png": "[encoded data removed]",
      "text/plain": [
       "<Figure size 800x500 with 1 Axes>"
      ]
     },
     "metadata": {},
     "output_type": "display_data"
    }
   ],
   "source": [
    "\n",
    "# 3. Bar chart comparing the average scores of male and female students\n",
    "print(\"\\nGenerating bar chart for average final grade by gender...\")\n",
    "plt.figure(figsize=(8, 5))\n",
    "sns.barplot(x=avg_g3_by_gender.index, y=avg_g3_by_gender.values, hue=avg_g3_by_gender.index, palette='pastel', legend=False)\n",
    "plt.xlabel(\"Gender\")\n",
    "plt.ylabel(\"Average Final Grade (G3)\")\n",
    "plt.title(\"Average Final Grade by Gender\")\n",
    "plt.show()"
   ]
  },
  {
   "cell_type": "code",
   "execution_count": null,
   "id": "05152bbd-06c4-4667-89e3-45ffe60f2072",
   "metadata": {},
   "outputs": [],
   "source": []
  }
 ],
 "metadata": {
  "kernelspec": {
   "display_name": "Python 3 (ipykernel)",
   "language": "python",
   "name": "python3"
  },
  "language_info": {
   "codemirror_mode": {
    "name": "ipython",
    "version": 3
   },
   "file_extension": ".py",
   "mimetype": "text/x-python",
   "name": "python",
   "nbconvert_exporter": "python",
   "pygments_lexer": "ipython3",
   "version": "3.13.0"
  }
 },
 "nbformat": 4,
 "nbformat_minor": 5
}
